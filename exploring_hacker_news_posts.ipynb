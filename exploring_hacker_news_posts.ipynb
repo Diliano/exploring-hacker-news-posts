{
 "cells": [
  {
   "cell_type": "markdown",
   "id": "47c35f21-e1bf-4493-aefc-e2d2500937ae",
   "metadata": {},
   "source": [
    "# Exploring Hacker News Posts\n",
    "\n",
    "[Hacker News](https://news.ycombinator.com/) is a popular site where users submit technology related posts that can be voted and commented upon.\n",
    "\n",
    "We are going to work with a dataset of submissions to Hacker News, specifically those with titles that begin with either `Ask HN` or `Show HN`. Users submit `Ask HN` posts to ask the community a question, such as \"How can I further improve the accessibility of my website?\". Users submit `Show HN` posts to show the community a project, product or just generally something interesting.\n",
    "\n",
    "We'll compare these two types of posts to determine the following:\n",
    "\n",
    "- Do `Ask HN` or `Show HN` receive more comments on average?\n",
    "- Do posts created at a certain time receive more comments on average?\n",
    "\n",
    "The dataset can be found [here](https://www.kaggle.com/datasets/hacker-news/hacker-news-posts), however do note that it has been reduced from approx 300,000 rows to approx 20,000 rows for this project. The rows were reduced by removing all submissions that did not receive any comments, and then random sampling from the remaining submissions."
   ]
  },
  {
   "cell_type": "markdown",
   "id": "46b178e5-0f27-4145-8a6f-e3bd74af33f1",
   "metadata": {},
   "source": [
    "## Introduction\n",
    "\n",
    "First, we'll read in the data, transform it into a list of lists and then display the first few rows. "
   ]
  },
  {
   "cell_type": "code",
   "execution_count": 1,
   "id": "0b281b05-a3c6-44de-ae26-0a528959c083",
   "metadata": {},
   "outputs": [
    {
     "data": {
      "text/plain": [
       "[['id', 'title', 'url', 'num_points', 'num_comments', 'author', 'created_at'],\n",
       " ['12224879',\n",
       "  'Interactive Dynamic Video',\n",
       "  'http://www.interactivedynamicvideo.com/',\n",
       "  '386',\n",
       "  '52',\n",
       "  'ne0phyte',\n",
       "  '8/4/2016 11:52'],\n",
       " ['10975351',\n",
       "  'How to Use Open Source and Shut the Fuck Up at the Same Time',\n",
       "  'http://hueniverse.com/2016/01/26/how-to-use-open-source-and-shut-the-fuck-up-at-the-same-time/',\n",
       "  '39',\n",
       "  '10',\n",
       "  'josep2',\n",
       "  '1/26/2016 19:30'],\n",
       " ['11964716',\n",
       "  \"Florida DJs May Face Felony for April Fools' Water Joke\",\n",
       "  'http://www.thewire.com/entertainment/2013/04/florida-djs-april-fools-water-joke/63798/',\n",
       "  '2',\n",
       "  '1',\n",
       "  'vezycash',\n",
       "  '6/23/2016 22:20'],\n",
       " ['11919867',\n",
       "  'Technology ventures: From Idea to Enterprise',\n",
       "  'https://www.amazon.com/Technology-Ventures-Enterprise-Thomas-Byers/dp/0073523429',\n",
       "  '3',\n",
       "  '1',\n",
       "  'hswarna',\n",
       "  '6/17/2016 0:01']]"
      ]
     },
     "execution_count": 1,
     "metadata": {},
     "output_type": "execute_result"
    }
   ],
   "source": [
    "from csv import reader\n",
    "\n",
    "# Read in the data and transform it into a list of lists\n",
    "opened_file = open(\"hacker_news.csv\")\n",
    "read_file = reader(opened_file)\n",
    "hn = list(read_file)\n",
    "hn[:5]"
   ]
  }
 ],
 "metadata": {
  "kernelspec": {
   "display_name": "Python 3 (ipykernel)",
   "language": "python",
   "name": "python3"
  },
  "language_info": {
   "codemirror_mode": {
    "name": "ipython",
    "version": 3
   },
   "file_extension": ".py",
   "mimetype": "text/x-python",
   "name": "python",
   "nbconvert_exporter": "python",
   "pygments_lexer": "ipython3",
   "version": "3.11.1"
  }
 },
 "nbformat": 4,
 "nbformat_minor": 5
}
