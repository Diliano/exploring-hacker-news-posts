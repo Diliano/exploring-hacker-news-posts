{
 "cells": [
  {
   "cell_type": "markdown",
   "id": "47c35f21-e1bf-4493-aefc-e2d2500937ae",
   "metadata": {},
   "source": [
    "# Exploring Hacker News Posts\n",
    "\n",
    "[Hacker News](https://news.ycombinator.com/) is a popular site where users submit technology related posts that can be voted and commented upon.\n",
    "\n",
    "We are going to work with a dataset of submissions to Hacker News, specifically those with titles that begin with either `Ask HN` or `Show HN`. Users submit `Ask HN` posts to ask the community a question, such as \"How can I further improve the accessibility of my website?\". Users submit `Show HN` posts to show the community a project, product or just generally something interesting.\n",
    "\n",
    "We'll compare these two types of posts to determine the following:\n",
    "\n",
    "- Do `Ask HN` or `Show HN` receive more comments on average?\n",
    "- Do posts created at a certain time receive more comments on average?\n",
    "\n",
    "The dataset can be found [here](https://www.kaggle.com/datasets/hacker-news/hacker-news-posts), however do note that it has been reduced from approx 300,000 rows to approx 20,000 rows for this project. The rows were reduced by removing all submissions that did not receive any comments, and then random sampling from the remaining submissions."
   ]
  },
  {
   "cell_type": "markdown",
   "id": "46b178e5-0f27-4145-8a6f-e3bd74af33f1",
   "metadata": {},
   "source": [
    "## Introduction\n",
    "\n",
    "First, we'll read in the data, transform it into a list of lists and then display the first few rows. "
   ]
  },
  {
   "cell_type": "code",
   "execution_count": 79,
   "id": "0b281b05-a3c6-44de-ae26-0a528959c083",
   "metadata": {},
   "outputs": [
    {
     "name": "stdout",
     "output_type": "stream",
     "text": [
      "The history saving thread hit an unexpected error (OperationalError('attempt to write a readonly database')).History will not be written to the database.\n"
     ]
    },
    {
     "data": {
      "text/plain": [
       "[['id', 'title', 'url', 'num_points', 'num_comments', 'author', 'created_at'],\n",
       " ['12224879',\n",
       "  'Interactive Dynamic Video',\n",
       "  'http://www.interactivedynamicvideo.com/',\n",
       "  '386',\n",
       "  '52',\n",
       "  'ne0phyte',\n",
       "  '8/4/2016 11:52'],\n",
       " ['10975351',\n",
       "  'How to Use Open Source and Shut the Fuck Up at the Same Time',\n",
       "  'http://hueniverse.com/2016/01/26/how-to-use-open-source-and-shut-the-fuck-up-at-the-same-time/',\n",
       "  '39',\n",
       "  '10',\n",
       "  'josep2',\n",
       "  '1/26/2016 19:30'],\n",
       " ['11964716',\n",
       "  \"Florida DJs May Face Felony for April Fools' Water Joke\",\n",
       "  'http://www.thewire.com/entertainment/2013/04/florida-djs-april-fools-water-joke/63798/',\n",
       "  '2',\n",
       "  '1',\n",
       "  'vezycash',\n",
       "  '6/23/2016 22:20'],\n",
       " ['11919867',\n",
       "  'Technology ventures: From Idea to Enterprise',\n",
       "  'https://www.amazon.com/Technology-Ventures-Enterprise-Thomas-Byers/dp/0073523429',\n",
       "  '3',\n",
       "  '1',\n",
       "  'hswarna',\n",
       "  '6/17/2016 0:01']]"
      ]
     },
     "execution_count": 79,
     "metadata": {},
     "output_type": "execute_result"
    }
   ],
   "source": [
    "from csv import reader\n",
    "\n",
    "# Read in the data and transform it into a list of lists\n",
    "opened_file = open(\"hacker_news.csv\")\n",
    "read_file = reader(opened_file)\n",
    "hn = list(read_file)\n",
    "\n",
    "hn[:5]"
   ]
  },
  {
   "cell_type": "markdown",
   "id": "dac4202e-8828-4f64-b40c-ce6035192e6f",
   "metadata": {},
   "source": [
    "## Removing headers\n",
    "\n",
    "We can see that the first row contains our column headers:\n",
    "\n",
    "- `id`: the unique identifier for the post\n",
    "- `title`: the title of the post\n",
    "- `url`: the URL that the post links to, if it has a URL\n",
    "- `num_points`: the number of points the post has aquired, calculated as the total number of upvotes minus the total number of downvotes\n",
    "- `num_comments`: the number of comments made on the post\n",
    "- `author`: the username of the person that submitted the post\n",
    "- `created_at`: the date and time at which the post was submitted\n",
    "\n",
    "In order to analyse our data, we will separate the row containing the column headers and the rest of the dataset."
   ]
  },
  {
   "cell_type": "code",
   "execution_count": 80,
   "id": "b9cf9466-6f67-48f3-b6e4-7cdbda90054c",
   "metadata": {},
   "outputs": [
    {
     "name": "stdout",
     "output_type": "stream",
     "text": [
      "['id', 'title', 'url', 'num_points', 'num_comments', 'author', 'created_at'] \n",
      "\n"
     ]
    },
    {
     "data": {
      "text/plain": [
       "[['12224879',\n",
       "  'Interactive Dynamic Video',\n",
       "  'http://www.interactivedynamicvideo.com/',\n",
       "  '386',\n",
       "  '52',\n",
       "  'ne0phyte',\n",
       "  '8/4/2016 11:52'],\n",
       " ['10975351',\n",
       "  'How to Use Open Source and Shut the Fuck Up at the Same Time',\n",
       "  'http://hueniverse.com/2016/01/26/how-to-use-open-source-and-shut-the-fuck-up-at-the-same-time/',\n",
       "  '39',\n",
       "  '10',\n",
       "  'josep2',\n",
       "  '1/26/2016 19:30'],\n",
       " ['11964716',\n",
       "  \"Florida DJs May Face Felony for April Fools' Water Joke\",\n",
       "  'http://www.thewire.com/entertainment/2013/04/florida-djs-april-fools-water-joke/63798/',\n",
       "  '2',\n",
       "  '1',\n",
       "  'vezycash',\n",
       "  '6/23/2016 22:20'],\n",
       " ['11919867',\n",
       "  'Technology ventures: From Idea to Enterprise',\n",
       "  'https://www.amazon.com/Technology-Ventures-Enterprise-Thomas-Byers/dp/0073523429',\n",
       "  '3',\n",
       "  '1',\n",
       "  'hswarna',\n",
       "  '6/17/2016 0:01'],\n",
       " ['10301696',\n",
       "  'Note by Note: The Making of Steinway L1037 (2007)',\n",
       "  'http://www.nytimes.com/2007/11/07/movies/07stein.html?_r=0',\n",
       "  '8',\n",
       "  '2',\n",
       "  'walterbell',\n",
       "  '9/30/2015 4:12']]"
      ]
     },
     "execution_count": 80,
     "metadata": {},
     "output_type": "execute_result"
    }
   ],
   "source": [
    "headers = hn[0]\n",
    "hn = hn[1:]\n",
    "\n",
    "print(headers, \"\\n\")\n",
    "hn[:5]"
   ]
  },
  {
   "cell_type": "markdown",
   "id": "f85c1ec9-0da3-4545-9868-0741138a7916",
   "metadata": {},
   "source": [
    "## Extracting Ask HN and Show HN posts\n",
    "\n",
    "Next, we'll separate the `Ask HN` and `Show HN` posts into their own lists.\n",
    "\n",
    "We'll do this by checking the `title` of each post and if it starts with either `Ask HN` or `Show HN`. In order to consider case variations, we'll convert the `title` to lowercase before checking for a match.\n",
    "\n",
    "We'll then display the number of posts in each of our new lists."
   ]
  },
  {
   "cell_type": "code",
   "execution_count": 81,
   "id": "25a8756e-413d-4ca0-af4d-f4c833849b3e",
   "metadata": {},
   "outputs": [
    {
     "name": "stdout",
     "output_type": "stream",
     "text": [
      "There are 1744 Ask HN posts\n",
      "There are 1162 Show HN posts\n",
      "There are 17194 other posts\n"
     ]
    }
   ],
   "source": [
    "ask_posts = []\n",
    "show_posts = []\n",
    "other_posts = []\n",
    "\n",
    "for row in hn:\n",
    "    title = row[1].lower()\n",
    "    if title.startswith(\"ask hn\"):\n",
    "        ask_posts.append(row)\n",
    "    elif title.startswith(\"show hn\"):\n",
    "        show_posts.append(row)\n",
    "    else:\n",
    "        other_posts.append(row)\n",
    "\n",
    "print(f\"There are {len(ask_posts)} Ask HN posts\")\n",
    "print(f\"There are {len(show_posts)} Show HN posts\")\n",
    "print(f\"There are {len(other_posts)} other posts\")"
   ]
  },
  {
   "cell_type": "markdown",
   "id": "9097b375-b0aa-4951-9bb2-19b9aca4e163",
   "metadata": {},
   "source": [
    "## Calculating the average number of comments for Ask HN and Show HN posts"
   ]
  },
  {
   "cell_type": "code",
   "execution_count": 82,
   "id": "854244dd-fa3c-4d35-b7f6-f0d3bb790761",
   "metadata": {},
   "outputs": [
    {
     "name": "stdout",
     "output_type": "stream",
     "text": [
      "14.038417431192661\n"
     ]
    }
   ],
   "source": [
    "total_ask_comments = 0\n",
    "\n",
    "for post in ask_posts:\n",
    "    num_comments = int(post[4])\n",
    "    total_ask_comments += num_comments\n",
    "\n",
    "avg_ask_comments = total_ask_comments / len(ask_posts)\n",
    "print(avg_ask_comments)"
   ]
  },
  {
   "cell_type": "code",
   "execution_count": 83,
   "id": "24551473-c411-455e-b7fc-a16719799a83",
   "metadata": {},
   "outputs": [
    {
     "name": "stdout",
     "output_type": "stream",
     "text": [
      "10.31669535283993\n"
     ]
    }
   ],
   "source": [
    "total_show_comments = 0\n",
    "\n",
    "for post in show_posts:\n",
    "    num_comments = int(post[4])\n",
    "    total_show_comments += num_comments\n",
    "\n",
    "avg_show_comments = total_show_comments / len(show_posts)\n",
    "print(avg_show_comments)"
   ]
  },
  {
   "cell_type": "markdown",
   "id": "51505c51-6513-4c31-a855-498c96187fa5",
   "metadata": {},
   "source": [
    "We find that on average, `Ask HN` posts receive more comments *(~14)* than `Show HN` posts *(~10)*."
   ]
  },
  {
   "cell_type": "markdown",
   "id": "f96b73ee-e8ef-4aeb-ada9-6be080c6b651",
   "metadata": {},
   "source": [
    "## Finding the amount of Ask HN posts and comments by hour created\n",
    "\n",
    "Next, we'll determine if `Ask HN` posts created at a certain time are more likely to attract comments. \n",
    "\n",
    "First, we'll calculate the amount of `Ask HN` posts created in each hour of the day, along with the number of comments received for each hour. We will then display our results."
   ]
  },
  {
   "cell_type": "code",
   "execution_count": 84,
   "id": "6fd87475-d77a-4dc5-bffe-395462da1e07",
   "metadata": {},
   "outputs": [
    {
     "data": {
      "text/plain": [
       "{'09': 45,\n",
       " '13': 85,\n",
       " '10': 59,\n",
       " '14': 107,\n",
       " '16': 108,\n",
       " '23': 68,\n",
       " '12': 73,\n",
       " '17': 100,\n",
       " '15': 116,\n",
       " '21': 109,\n",
       " '20': 80,\n",
       " '02': 58,\n",
       " '18': 109,\n",
       " '03': 54,\n",
       " '05': 46,\n",
       " '19': 110,\n",
       " '01': 60,\n",
       " '22': 71,\n",
       " '08': 48,\n",
       " '04': 47,\n",
       " '00': 55,\n",
       " '06': 44,\n",
       " '07': 34,\n",
       " '11': 58}"
      ]
     },
     "execution_count": 84,
     "metadata": {},
     "output_type": "execute_result"
    }
   ],
   "source": [
    "import datetime as dt\n",
    "\n",
    "result_list = []\n",
    "\n",
    "for post in ask_posts:\n",
    "    created_at = post[6]\n",
    "    num_comments = int(post[4])\n",
    "    result_list.append([created_at, num_comments])\n",
    "\n",
    "posts_by_hour = {}\n",
    "comments_by_hour = {}\n",
    "\n",
    "for result in result_list:\n",
    "    created_at = result[0]\n",
    "    num_comments = result[1]\n",
    "    hour = dt.datetime.strptime(created_at, \"%m/%d/%Y %H:%M\").strftime(\"%H\")\n",
    "\n",
    "    if hour in posts_by_hour:\n",
    "        posts_by_hour[hour] += 1\n",
    "        comments_by_hour[hour] += num_comments\n",
    "    else:\n",
    "        posts_by_hour[hour] = 1\n",
    "        comments_by_hour[hour] = num_comments\n",
    "\n",
    "posts_by_hour"
   ]
  },
  {
   "cell_type": "code",
   "execution_count": 85,
   "id": "f847e66f-a335-4fb4-961c-3f394035a6e7",
   "metadata": {},
   "outputs": [
    {
     "data": {
      "text/plain": [
       "{'09': 251,\n",
       " '13': 1253,\n",
       " '10': 793,\n",
       " '14': 1416,\n",
       " '16': 1814,\n",
       " '23': 543,\n",
       " '12': 687,\n",
       " '17': 1146,\n",
       " '15': 4477,\n",
       " '21': 1745,\n",
       " '20': 1722,\n",
       " '02': 1381,\n",
       " '18': 1439,\n",
       " '03': 421,\n",
       " '05': 464,\n",
       " '19': 1188,\n",
       " '01': 683,\n",
       " '22': 479,\n",
       " '08': 492,\n",
       " '04': 337,\n",
       " '00': 447,\n",
       " '06': 397,\n",
       " '07': 267,\n",
       " '11': 641}"
      ]
     },
     "execution_count": 85,
     "metadata": {},
     "output_type": "execute_result"
    }
   ],
   "source": [
    "comments_by_hour"
   ]
  }
 ],
 "metadata": {
  "kernelspec": {
   "display_name": "Python 3 (ipykernel)",
   "language": "python",
   "name": "python3"
  },
  "language_info": {
   "codemirror_mode": {
    "name": "ipython",
    "version": 3
   },
   "file_extension": ".py",
   "mimetype": "text/x-python",
   "name": "python",
   "nbconvert_exporter": "python",
   "pygments_lexer": "ipython3",
   "version": "3.11.1"
  }
 },
 "nbformat": 4,
 "nbformat_minor": 5
}
